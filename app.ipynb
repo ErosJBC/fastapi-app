{
 "cells": [
  {
   "cell_type": "code",
   "execution_count": 18,
   "metadata": {},
   "outputs": [
    {
     "data": {
      "text/plain": [
       "{'email': FieldInfo(annotation=str, required=True, title='Email Address', description='The email address of the user'),\n",
       " 'password': FieldInfo(annotation=str, required=True, title='Password', description='The password of the user')}"
      ]
     },
     "execution_count": 18,
     "metadata": {},
     "output_type": "execute_result"
    }
   ],
   "source": [
    "from pydantic import BaseModel, Field\n",
    "\n",
    "class User(BaseModel):\n",
    "    email: str = Field(..., title=\"Email Address\", description=\"The email address of the user\")\n",
    "    password: str = Field(..., title=\"Password\", description=\"The password of the user\")\n",
    "\n",
    "user = User(email=\"john.doe@example.com\", password=\"secret\")\n",
    "\n",
    "dict_columns = {name: field for name, field in user.model_fields.items()}\n",
    "dict_columns"
   ]
  }
 ],
 "metadata": {
  "kernelspec": {
   "display_name": "venv",
   "language": "python",
   "name": "python3"
  },
  "language_info": {
   "codemirror_mode": {
    "name": "ipython",
    "version": 3
   },
   "file_extension": ".py",
   "mimetype": "text/x-python",
   "name": "python",
   "nbconvert_exporter": "python",
   "pygments_lexer": "ipython3",
   "version": "3.12.7"
  }
 },
 "nbformat": 4,
 "nbformat_minor": 2
}
